{
 "cells": [
  {
   "cell_type": "code",
   "execution_count": 1,
   "id": "7a68e15e",
   "metadata": {},
   "outputs": [],
   "source": [
    "from bs4 import BeautifulSoup\n",
    "import requests\n",
    "import smtplib\n",
    "import time \n",
    "import datetime\n",
    "import pandas as pd\n"
   ]
  },
  {
   "cell_type": "code",
   "execution_count": 2,
   "id": "9436b154",
   "metadata": {
    "scrolled": true
   },
   "outputs": [
    {
     "name": "stdout",
     "output_type": "stream",
     "text": [
      "                                            Producto   Precio\n",
      "0  Kindle (modelo de 2022): nuestro Kindle más co...  109,00€\n"
     ]
    }
   ],
   "source": [
    "import requests\n",
    "from bs4 import BeautifulSoup\n",
    "import csv\n",
    "\n",
    "# Tu código para realizar la solicitud HTTP y analizar la página con BeautifulSoup\n",
    "URL = 'https://www.amazon.es/kindle-2022/dp/B09SWTJZH6/ref=sr_1_1?__mk_es_ES=%C3%85M%C3%85%C5%BD%C3%95%C3%91&crid=3FSWNYRE6VTRD&keywords=kindle&qid=1702487979&sprefix=kindle%2Caps%2C111&sr=8-1&th=1'\n",
    "headers = {\n",
    "    \"User-Agent\": \"Mozilla/5.0 (Windows NT 10.0; Win64; x64) AppleWebKit/537.36 (KHTML, like Gecko) Chrome/119.0.0.0 Safari/537.36\",\n",
    "    \"Accept-Encoding\": \"gzip, deflate\",\n",
    "    \"Accept\": \"text/html,application/xhtml+xml,application/xml;q=0.9,*/*;q=0.8\",\n",
    "    \"DNT\": \"1\",\n",
    "    \"Connection\": \"close\",\n",
    "    \"Upgrade-Insecure-Requests\": \"1\"\n",
    "}\n",
    "page = requests.get(URL, headers=headers)\n",
    "soup = BeautifulSoup(page.content, \"html.parser\")\n",
    "\n",
    "# Buscar el título del producto\n",
    "title = soup.find(id='productTitle').get_text(strip=True)\n",
    "\n",
    "# Buscar el precio del producto\n",
    "price_element = soup.find('span', {'class': 'a-price'})\n",
    "price = price_element.find('span', {'class': 'a-offscreen'}).get_text(strip=True) if price_element else \"No disponible\"\n",
    "\n",
    "data = {'Producto': [title], 'Precio': [price]}\n",
    "df = pd.DataFrame(data)\n",
    "print(df)\n",
    " "
   ]
  },
  {
   "cell_type": "code",
   "execution_count": 3,
   "id": "dd3ae944",
   "metadata": {},
   "outputs": [
    {
     "name": "stdout",
     "output_type": "stream",
     "text": [
      "2024-01-11\n"
     ]
    }
   ],
   "source": [
    "import datetime\n",
    "\n",
    "today = datetime.date.today()\n",
    "\n",
    "print(today)"
   ]
  },
  {
   "cell_type": "code",
   "execution_count": 4,
   "id": "6bd85b6b",
   "metadata": {},
   "outputs": [
    {
     "name": "stdout",
     "output_type": "stream",
     "text": [
      "                                            Producto   Precio       Fecha\n",
      "0  Kindle (modelo de 2022): nuestro Kindle más co...  109.00€  2024-01-11\n"
     ]
    }
   ],
   "source": [
    "import csv\n",
    "import pandas as pd\n",
    "\n",
    "# Supongamos que price es un número\n",
    "price = 109.00\n",
    "\n",
    "# Formatea el precio como una cadena con coma para los decimales\n",
    "formatted_price = f'{price:.2f}€'\n",
    "\n",
    "# Resto del código\n",
    "header = ['Producto', 'Precio', 'Fecha']\n",
    "\n",
    "# Asegúrate de que formatted_price y today sean cadenas\n",
    "data = [title, str(formatted_price), str(today)]\n",
    "\n",
    "# Escribe los datos en un archivo CSV\n",
    "with open('AmazonKindleScraper.csv', 'w', newline='', encoding='utf-8-sig') as f:\n",
    "    writer = csv.writer(f, delimiter=';')\n",
    "    writer.writerow(header)\n",
    "    writer.writerow(data)\n",
    "\n",
    "# Lee el archivo CSV con pandas para verificar los datos\n",
    "df = pd.read_csv(r'C:\\Users\\mario\\AmazonKindleScraper.csv', delimiter=';', quotechar='\"', escapechar='\\\\')\n",
    "print(df)\n"
   ]
  },
  {
   "cell_type": "code",
   "execution_count": 5,
   "id": "9900f2d3",
   "metadata": {},
   "outputs": [
    {
     "name": "stdout",
     "output_type": "stream",
     "text": [
      "                                            Producto   Precio       Fecha\n",
      "0  Kindle (modelo de 2022): nuestro Kindle más co...  109.00€  2024-01-11\n"
     ]
    }
   ],
   "source": [
    "import pandas as pd\n",
    "\n",
    "# Lee el archivo CSV con configuración específica\n",
    "df = pd.read_csv(r'C:\\Users\\mario\\AmazonKindleScraper.csv', delimiter=';', quotechar='\"', escapechar='\\\\')\n",
    "\n",
    "print(df)\n"
   ]
  },
  {
   "cell_type": "code",
   "execution_count": 6,
   "id": "472c8f26",
   "metadata": {},
   "outputs": [],
   "source": [
    "with open('AmazonKindleScraper.csv', 'a+', newline='', encoding='utf-8-sig') as f:\n",
    "    writer = csv.writer(f, delimiter=';', quotechar='\"', escapechar='\\\\')\n",
    "    writer.writerow(data)"
   ]
  },
  {
   "cell_type": "code",
   "execution_count": 7,
   "id": "3969b939",
   "metadata": {},
   "outputs": [],
   "source": [
    "def check_price():\n",
    "    URL = 'https://www.amazon.es/kindle-2022/dp/B09SWTJZH6/ref=sr_1_1?__mk_es_ES=%C3%85M%C3%85%C5%BD%C3%95%C3%91&crid=3FSWNYRE6VTRD&keywords=kindle&qid=1702487979&sprefix=kindle%2Caps%2C111&sr=8-1&th=1'\n",
    "    \n",
    "    headers = {\n",
    "        \"User-Agent\": \"Mozilla/5.0 (Windows NT 10.0; Win64; x64) AppleWebKit/537.36 (KHTML, like Gecko) Chrome/119.0.0.0 Safari/537.36\",\n",
    "        \"Accept-Encoding\": \"gzip, deflate\",\n",
    "        \"Accept\": \"text/html,application/xhtml+xml,application/xml;q=0.9,*/*;q=0.8\",\n",
    "        \"DNT\": \"1\",\n",
    "        \"Connection\": \"close\",\n",
    "        \"Upgrade-Insecure-Requests\": \"1\"\n",
    "    }\n",
    "\n",
    "    page = requests.get(URL, headers=headers)\n",
    "\n",
    "    soup = BeautifulSoup(page.content, \"html.parser\")\n",
    "\n",
    "    title = soup.find(id='productTitle').get_text(strip=True)\n",
    "\n",
    "    price_element = soup.find('span', {'class': 'a-price'})\n",
    "\n",
    "    price = price_element.find('span', {'class': 'a-offscreen'}).get_text(strip=True) if price_element else \"No disponible\"\n",
    "\n",
    "    import datetime\n",
    "\n",
    "    today = datetime.date.today()\n",
    "\n",
    "    print(today)\n",
    "\n",
    "    import csv\n",
    "\n",
    "    price = 109.00\n",
    "\n",
    "    formatted_price = f'{price:.2f}€'\n",
    "\n",
    "    header = ['Producto', 'Precio', 'Fecha']\n",
    "\n",
    "    data = [title, str(formatted_price), str(today)]\n",
    "    \n",
    "    with open('AmazonKindleScraper.csv', 'a+', newline='', encoding='utf-8-sig') as f:\n",
    "        writer = csv.writer(f, delimiter=';', quotechar='\"', escapechar='\\\\')\n",
    "        writer.writerow(data)\n",
    "    \n",
    "    if float(price) < 80:\n",
    "        send_mail()\n",
    "\n"
   ]
  },
  {
   "cell_type": "code",
   "execution_count": 8,
   "id": "7e4a0b43",
   "metadata": {},
   "outputs": [],
   "source": [
    "def send_mail():\n",
    "    server = smtplib.SMTP_SSL('smtp.gmail.com', 465)\n",
    "    server.ehlo()\n",
    "    server.login('email_del_emisor@gmail.com', '**** **** **** ****')\n",
    "\n",
    "    subject = \"El kindle ha sido rebajado a 80€\"\n",
    "    body = \"Es el momento de realizar la compra que tanto tiempo has deseado, está a un precio increíble\"\n",
    "\n",
    "    msg = f\"Subject: {subject}\\n\\n{body}\"\n",
    "\n",
    "    server.sendmail('email_del_emisor@gmail.com', 'email_del_receptor@gmail.com', msg.encode('utf-8'))"
   ]
  },
  {
   "cell_type": "code",
   "execution_count": null,
   "id": "126b13f1",
   "metadata": {
    "scrolled": true
   },
   "outputs": [
    {
     "name": "stdout",
     "output_type": "stream",
     "text": [
      "2024-01-11\n"
     ]
    }
   ],
   "source": [
    "while True:\n",
    "    check_price()\n",
    "    time.sleep(86400)"
   ]
  },
  {
   "cell_type": "code",
   "execution_count": null,
   "id": "96436694",
   "metadata": {},
   "outputs": [],
   "source": [
    "import pandas as pd\n",
    "\n",
    "# Lee el archivo CSV con configuración específica\n",
    "df = pd.read_csv(r'C:\\Users\\mario\\AmazonKindleScraper.csv', delimiter=';', quotechar='\"', escapechar='\\\\')\n",
    "\n",
    "print(df)"
   ]
  },
  {
   "cell_type": "code",
   "execution_count": null,
   "id": "67f0c980",
   "metadata": {},
   "outputs": [],
   "source": []
  },
  {
   "cell_type": "code",
   "execution_count": null,
   "id": "8f4a1555",
   "metadata": {},
   "outputs": [],
   "source": []
  }
 ],
 "metadata": {
  "kernelspec": {
   "display_name": "Python 3 (ipykernel)",
   "language": "python",
   "name": "python3"
  },
  "language_info": {
   "codemirror_mode": {
    "name": "ipython",
    "version": 3
   },
   "file_extension": ".py",
   "mimetype": "text/x-python",
   "name": "python",
   "nbconvert_exporter": "python",
   "pygments_lexer": "ipython3",
   "version": "3.11.5"
  }
 },
 "nbformat": 4,
 "nbformat_minor": 5
}
